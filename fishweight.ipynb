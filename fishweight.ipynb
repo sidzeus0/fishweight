{
 "cells": [
  {
   "cell_type": "code",
   "execution_count": 1,
   "metadata": {},
   "outputs": [
    {
     "name": "stdout",
     "output_type": "stream",
     "text": [
      "<class 'pandas.core.frame.DataFrame'>\n",
      "RangeIndex: 159 entries, 0 to 158\n",
      "Data columns (total 7 columns):\n",
      " #   Column   Non-Null Count  Dtype  \n",
      "---  ------   --------------  -----  \n",
      " 0   Species  159 non-null    object \n",
      " 1   Weight   159 non-null    float64\n",
      " 2   Length1  159 non-null    float64\n",
      " 3   Length2  159 non-null    float64\n",
      " 4   Length3  159 non-null    float64\n",
      " 5   Height   159 non-null    float64\n",
      " 6   Width    159 non-null    float64\n",
      "dtypes: float64(6), object(1)\n",
      "memory usage: 8.8+ KB\n"
     ]
    },
    {
     "data": {
      "text/plain": [
       "(  Species  Weight  Length1  Length2  Length3   Height   Width\n",
       " 0   Bream   242.0     23.2     25.4     30.0  11.5200  4.0200\n",
       " 1   Bream   290.0     24.0     26.3     31.2  12.4800  4.3056\n",
       " 2   Bream   340.0     23.9     26.5     31.1  12.3778  4.6961\n",
       " 3   Bream   363.0     26.3     29.0     33.5  12.7300  4.4555\n",
       " 4   Bream   430.0     26.5     29.0     34.0  12.4440  5.1340,\n",
       "             Weight     Length1     Length2     Length3      Height       Width\n",
       " count   159.000000  159.000000  159.000000  159.000000  159.000000  159.000000\n",
       " mean    398.326415   26.247170   28.415723   31.227044    8.970994    4.417486\n",
       " std     357.978317    9.996441   10.716328   11.610246    4.286208    1.685804\n",
       " min       0.000000    7.500000    8.400000    8.800000    1.728400    1.047600\n",
       " 25%     120.000000   19.050000   21.000000   23.150000    5.944800    3.385650\n",
       " 50%     273.000000   25.200000   27.300000   29.400000    7.786000    4.248500\n",
       " 75%     650.000000   32.700000   35.500000   39.650000   12.365900    5.584500\n",
       " max    1650.000000   59.000000   63.400000   68.000000   18.957000    8.142000,\n",
       " None)"
      ]
     },
     "execution_count": 1,
     "metadata": {},
     "output_type": "execute_result"
    }
   ],
   "source": [
    "import pandas as pd\n",
    "\n",
    "# Load the dataset\n",
    "fish_data = pd.read_csv('Fish.csv')\n",
    "\n",
    "# Display the first few rows of the dataset and its summary\n",
    "fish_data.head(), fish_data.describe(), fish_data.info()\n"
   ]
  },
  {
   "cell_type": "code",
   "execution_count": 2,
   "metadata": {},
   "outputs": [
    {
     "data": {
      "text/plain": [
       "(7, 67.73176537816693)"
      ]
     },
     "execution_count": 2,
     "metadata": {},
     "output_type": "execute_result"
    }
   ],
   "source": [
    "from sklearn.model_selection import train_test_split\n",
    "from sklearn.preprocessing import OneHotEncoder\n",
    "from sklearn.compose import ColumnTransformer\n",
    "from sklearn.pipeline import Pipeline\n",
    "from sklearn.ensemble import RandomForestRegressor\n",
    "from sklearn.metrics import mean_squared_error\n",
    "\n",
    "# Check the number of unique species\n",
    "unique_species = fish_data['Species'].nunique()\n",
    "\n",
    "# Preparing the data\n",
    "X = fish_data.drop('Weight', axis=1)\n",
    "y = fish_data['Weight']\n",
    "\n",
    "# Encoding categorical data\n",
    "categorical_features = ['Species']\n",
    "numerical_features = X.columns.difference(categorical_features)\n",
    "\n",
    "# One-hot encode the categorical features\n",
    "preprocessor = ColumnTransformer(\n",
    "    transformers=[\n",
    "        ('num', 'passthrough', numerical_features),\n",
    "        ('cat', OneHotEncoder(), categorical_features)\n",
    "    ])\n",
    "\n",
    "# Split the data into training and testing sets\n",
    "X_train, X_test, y_train, y_test = train_test_split(X, y, test_size=0.2, random_state=42)\n",
    "\n",
    "# Create the Random Forest model pipeline\n",
    "model = Pipeline(steps=[\n",
    "    ('preprocessor', preprocessor),\n",
    "    ('regressor', RandomForestRegressor(n_estimators=100, random_state=42))\n",
    "])\n",
    "\n",
    "# Train the model\n",
    "model.fit(X_train, y_train)\n",
    "\n",
    "# Predict on the test set\n",
    "y_pred = model.predict(X_test)\n",
    "\n",
    "# Evaluate the model\n",
    "rmse = mean_squared_error(y_test, y_pred, squared=False)\n",
    "\n",
    "unique_species, rmse\n"
   ]
  },
  {
   "cell_type": "code",
   "execution_count": 3,
   "metadata": {},
   "outputs": [
    {
     "name": "stdout",
     "output_type": "stream",
     "text": [
      "Root Mean Square Error (RMSE): 67.73176537816693\n",
      "\n",
      "Actual vs Predicted weights for the first 5 fish in the test set:\n",
      "Actual: 78.0, Predicted: 84.09\n",
      "Actual: 13.4, Predicted: 11.35\n",
      "Actual: 200.0, Predicted: 308.15\n",
      "Actual: 270.0, Predicted: 270.21\n",
      "Actual: 150.0, Predicted: 139.40\n"
     ]
    }
   ],
   "source": [
    "# Predict on the test set\n",
    "y_pred = model.predict(X_test)\n",
    "\n",
    "# Evaluate the model\n",
    "rmse = mean_squared_error(y_test, y_pred, squared=False)\n",
    "\n",
    "# Display the RMSE value\n",
    "print(f\"Root Mean Square Error (RMSE): {rmse}\")\n",
    "\n",
    "# Display the first 5 actual vs predicted values\n",
    "print(\"\\nActual vs Predicted weights for the first 5 fish in the test set:\")\n",
    "for actual, predicted in zip(y_test[:5], y_pred[:5]):\n",
    "    print(f\"Actual: {actual}, Predicted: {predicted:.2f}\")\n"
   ]
  },
  {
   "cell_type": "code",
   "execution_count": 4,
   "metadata": {},
   "outputs": [],
   "source": [
    "import pickle\n",
    "\n",
    "# Save the model to a file using pickle\n",
    "with open('fish_weight_predictor.pkl', 'wb') as file:\n",
    "    pickle.dump(model, file)\n"
   ]
  }
 ],
 "metadata": {
  "kernelspec": {
   "display_name": "Python 3",
   "language": "python",
   "name": "python3"
  },
  "language_info": {
   "codemirror_mode": {
    "name": "ipython",
    "version": 3
   },
   "file_extension": ".py",
   "mimetype": "text/x-python",
   "name": "python",
   "nbconvert_exporter": "python",
   "pygments_lexer": "ipython3",
   "version": "3.11.5"
  }
 },
 "nbformat": 4,
 "nbformat_minor": 2
}
